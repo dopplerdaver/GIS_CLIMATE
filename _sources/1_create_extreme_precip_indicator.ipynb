{
 "cells": [
  {
   "cell_type": "markdown",
   "id": "769ab305-09c2-47c9-9db0-06c2631f688b",
   "metadata": {},
   "source": [
    "***"
   ]
  },
  {
   "cell_type": "markdown",
   "id": "90aa6a1b-6166-4881-b235-9d6beb588b39",
   "metadata": {},
   "source": [
    "# Create and assess an extreme precipitation event index using NCAR's CONUS 404 Convective Permitting (CP) Global Circulation Model (GCM) grids with 4-km horizontal resolution compared to the PRISM monthly climatology precipitation dataset, and rain gauge data\n"
   ]
  },
  {
   "cell_type": "markdown",
   "id": "a879d495-cebb-4fca-b904-7ed83ca8235b",
   "metadata": {},
   "source": [
    "## - Created September 2022 by Serke, D. for the NCAR GIS Group"
   ]
  },
  {
   "cell_type": "markdown",
   "id": "e4780bac-b283-4b4a-8534-65be02ecbe82",
   "metadata": {},
   "source": [
    "***"
   ]
  },
  {
   "cell_type": "markdown",
   "id": "7225b688-be7e-4f7b-afbd-615e003ce515",
   "metadata": {},
   "source": [
    "## Purpose"
   ]
  },
  {
   "cell_type": "markdown",
   "id": "50c84ac4-4d70-441e-9108-85b36b9b8a71",
   "metadata": {},
   "source": [
    "- ### In this notebook, we will explore how to create a single sample index that are derived from more complex model fields."
   ]
  },
  {
   "cell_type": "markdown",
   "id": "23ee6d7b-9518-47d6-a1c7-08a8041ee1fc",
   "metadata": {},
   "source": [
    "- ### For this workflow, we have chosen to demonstrate a 'precipitation extreme' index, using monthly temporal resolution."
   ]
  },
  {
   "cell_type": "markdown",
   "id": "c1fda98c-6b9c-4206-b2fe-40510593fda1",
   "metadata": {},
   "source": [
    "- ### The index values will then be compared to 'truth' data in the form of rain gauge time series values and long term climate normal values from [PRISM](https://prism.oregonstate.edu/)."
   ]
  },
  {
   "cell_type": "markdown",
   "id": "5be7c0a8-466b-416d-9008-a984f77c20ac",
   "metadata": {},
   "source": [
    "- ### A user may choose to implement any manner of index or indicator, following the template in this workflow"
   ]
  },
  {
   "cell_type": "markdown",
   "id": "32f817d7-dec4-4ce1-8ad4-9dece344923c",
   "metadata": {},
   "source": [
    "- ### A list of other potential indices/indicators appears in these links: [WMO Climpact indices](https://climpact-sci.org/indices/), [IDMP drought indices](https://www.droughtmanagement.info/indices/)"
   ]
  },
  {
   "cell_type": "markdown",
   "id": "227217f0-a211-4b84-950b-c8b957d850b3",
   "metadata": {},
   "source": [
    "- ### Another purpose is to gain a better understanding of the background, output fields, precision, and utility of NCAR's CONUS404 model as it is described in [this](https://link.springer.com/article/10.1007/s00382-016-3327-9) paper"
   ]
  },
  {
   "cell_type": "markdown",
   "id": "083523f3-0ce2-49a2-a6b9-1cd2973b415f",
   "metadata": {},
   "source": [
    "***"
   ]
  },
  {
   "cell_type": "markdown",
   "id": "efeb5173-95c1-4b3a-9cc1-fdf24eb95546",
   "metadata": {},
   "source": [
    "## Background"
   ]
  },
  {
   "cell_type": "markdown",
   "id": "9a6f7299-10b7-4aa0-9912-666db0be916b",
   "metadata": {},
   "source": [
    "- ### A review of Convective-permitting climate modelling was the topic of this [Prein et al. 2015](https://agupubs.onlinelibrary.wiley.com/doi/full/10.1002/2014RG000475) paper"
   ]
  },
  {
   "cell_type": "markdown",
   "id": "a09b53b7-f690-47fe-b6b5-a4daf38591cb",
   "metadata": {},
   "source": [
    "- ### Previous research by [Prein et al. 2022]() and [Prein et al. 2020](https://link.springer.com/content/pdf/10.1007/s00382-017-3993-2.pdf) has demonstrated that with high resolution, convection-permitting GCMs it is possible to identify longer duration precipitation events (eg monsoon, MCSs) via the frequency of days with synoptic-scale moisture advection into the region.  Using this field greatly improves predictability over directly utilizing modeled precipitation. We will explore that possibility here."
   ]
  },
  {
   "cell_type": "markdown",
   "id": "766147a0-11d2-49b5-ab8d-a9af7f897d19",
   "metadata": {},
   "source": [
    "- ### Characteristics of NCAR's CONUS404 model, as discussed in Liu et al. 2017 include: \n",
    "### - runs on high performance computing system sponsored by the USGS \n",
    "### - uses Weather Research and Forecasting (WRF) model Version 3.9.1 with 4 x 4 km horizontal resolution over CONtinental US (CONUS) + portion of Canada \n",
    "### - hourly temporal output frequency \n",
    "### - resolves orography \n",
    "### - 40-year retrospective simulation (Oct of 1979-2021) \n",
    "### - permits convection \n",
    "### - initial boundary conditions from ERA5 1-hr reanalysis data \n",
    "### - 51 stretched vertical levels, with 50 mb as top level \n",
    "### - uses Thompson and Eidhammer (2014) aerosol-aware microphysics package \n",
    "### - uses Rapid Radiative Transfer Model \n",
    "### - uses Yonsei University planetary boundary layer \n",
    "### - uses the Noah-MP land-surface model, with several key custom modifications \n",
    "### - uses the Miguel Macho Fan (MFF) groundwater scheme \n",
    "### - spectral nudging is applied (to remove warm season bias) \n",
    "### - an upgraded lake water temperature treatment is implemented"
   ]
  },
  {
   "cell_type": "markdown",
   "id": "03ab1860-f1f5-4dc3-9c13-e8d4af133879",
   "metadata": {},
   "source": [
    "####"
   ]
  },
  {
   "cell_type": "markdown",
   "id": "7dcc30f0-b9b2-4a4d-a0d8-a5d7f764c33c",
   "metadata": {},
   "source": [
    "- ### Potential advantages of high resolution CP models run multiple decades include:\n",
    "### - resolving high intensity precipitation events, which are not possible in convection-parameterizing models\n",
    "### - better resolve evapotranspiration (ET), the most uncertain water cycle term\n",
    "### - the sum of these two is better resolved runoff\n",
    "### - extremes are typically associated with mesoscale processes, such as mesoscale terrain forcing, gust fronts, dry lines, and MCSs, which are typically not properly depicted in GCMs\n"
   ]
  },
  {
   "cell_type": "markdown",
   "id": "271e82f4-fee4-4b4a-9e8b-1a4aa5a0057c",
   "metadata": {},
   "source": [
    "####"
   ]
  },
  {
   "cell_type": "markdown",
   "id": "ee62733a-cd3b-45f8-ae08-4eb62c90bd00",
   "metadata": {},
   "source": [
    "- ### Findings from the CONUS404 compared to 'truth':\n",
    "### - Quite consistent year to year, having no visible deterioration and drifting with integration time\n",
    "### - the model absolute error is well within the observational uncertainty\n",
    "### - apparent deficiency is the mid-summer rainfall low bias over the central U.S., possibly indicative of too-weak (or too infrequent) propagating convection which originates from the Rockies\n",
    "### - The pattern correlation coeffcient is higher than 0.96 for all seasons. \n",
    "### - WRF does particularly well in simulating the coastal and topographic modifcations over the western CONUS in all seasons\n",
    "### - confrms the model’s capability in reproducing orographic precipitation\n",
    "### - The average precipitation at all sites has a small negative bias of just −2 %\n",
    "### - Able to replicate the observed annual cycle, accurately timing the maximum/minimum monthly precipitation, and the departure is typically a few percent of the observations"
   ]
  },
  {
   "cell_type": "markdown",
   "id": "21693034-8ba4-4048-a6e7-171d1d0db905",
   "metadata": {},
   "source": [
    "####"
   ]
  },
  {
   "cell_type": "markdown",
   "id": "484cb764-919a-4e81-bd88-e70cf20de824",
   "metadata": {},
   "source": [
    "- ### For this exploratory workflow, we chose to demonstrate the Standardized Precipitation Index (SPI), developed by [McKee et al. (1993)](https://www.droughtmanagement.info/literature/AMS_Relationship_Drought_Frequency_Duration_Time_Scales_1993.pdf) "
   ]
  },
  {
   "cell_type": "markdown",
   "id": "1a19a45b-f333-4df3-af9e-18f0bad10a4c",
   "metadata": {},
   "source": [
    "***"
   ]
  },
  {
   "cell_type": "markdown",
   "id": "04fdb857-4a12-45e2-944a-493aa61a9d47",
   "metadata": {},
   "source": [
    "## Workflow outline"
   ]
  },
  {
   "cell_type": "markdown",
   "id": "2f775724-567d-4a83-adc2-dd6a5f5ff01a",
   "metadata": {},
   "source": [
    "- ### First, we will divide this complicated sounding process down into prioritized, manageable steps in this workflow outline..."
   ]
  },
  {
   "cell_type": "markdown",
   "id": "68e99883-b6bb-4977-b895-9e50f69781b2",
   "metadata": {},
   "source": [
    "### 1. Define a study period\n",
    "### 2. Collect input data\n",
    "    a. climatology - PRISM 4km x 4km horizontal resolution normals and time-series gridded datasets\n",
    "    b. test        - CONUS 404 GCM, convection permitting, 4km x 4km horizontal resolution gridded dataset\n",
    "    c. truth       - rain gauge/radar-derived Quantitative Precipitation Estimates (QPE) data\n",
    "### 3. Set up user's python environment    \n",
    "### 4. Ingest input data\n",
    "### 5. Implement an extreme precipitation index\n",
    "### 6. Visualize data\n",
    "    a. fields from climatology  \n",
    "    b. raw field from model\n",
    "    c. index field from model and climatology "
   ]
  },
  {
   "cell_type": "markdown",
   "id": "3d77e6ef-64d4-4069-a8ff-c6f83f1aa68a",
   "metadata": {},
   "source": [
    "***"
   ]
  },
  {
   "cell_type": "markdown",
   "id": "e16fe681-3078-421d-a532-8004a93097b4",
   "metadata": {},
   "source": [
    "## Step 1. Define a study period"
   ]
  },
  {
   "cell_type": "markdown",
   "id": "723a5519-ef3a-4b2a-9a6b-6df1c9b69bbb",
   "metadata": {},
   "source": [
    "- ### First, we need to identify a time period where all of our input datasets will be known to be available and an extreme precipitation event is known to have occurred"
   ]
  },
  {
   "cell_type": "markdown",
   "id": "69fef35b-3aa6-450d-898a-1e24cacf9342",
   "metadata": {},
   "source": [
    "- ### The climatology data covers at least the last 30 years, with monthly 4km x 4km solution (similar to the CONUS404 model grid)"
   ]
  },
  {
   "cell_type": "markdown",
   "id": "cfa562bc-3632-4cc8-b079-37fabe1d1341",
   "metadata": {},
   "source": [
    "- ### Let's examine the [Colorado Front Range flooding from 2013](https://en.wikipedia.org/wiki/2013_Colorado_floods) to demonstrate the workflow"
   ]
  },
  {
   "cell_type": "markdown",
   "id": "b984db90-12bc-40f0-9b4a-c8434c113858",
   "metadata": {},
   "source": [
    "- ### A more detailed meteorological analysis of the event was presented by the National Weather Service (NWS) [at this link](https://www.weather.gov/media/bou/Sep_2013_Flood.pdf)"
   ]
  },
  {
   "cell_type": "markdown",
   "id": "5c93649a-0c51-47a8-acd0-17bc703db0f5",
   "metadata": {},
   "source": [
    "![CO_flood](https://crd.lbl.gov/assets/Uploads/Water-Vapor-Systems-Seen-From-GOES-15-and-GOES-13-Satellites-12-September-2013.gif)"
   ]
  },
  {
   "cell_type": "markdown",
   "id": "f413bb79-7fa9-4158-9703-0a2ff0f15273",
   "metadata": {},
   "source": [
    "## Next, we'll collect some data ...\n"
   ]
  },
  {
   "cell_type": "markdown",
   "id": "003c1831-aee1-4f5e-ac5d-eaa24b104eb9",
   "metadata": {},
   "source": [
    "***"
   ]
  },
  {
   "cell_type": "markdown",
   "id": "be22def8-14ca-4ded-aabd-52076b42b867",
   "metadata": {},
   "source": [
    "## Step 2. Collect input datasets"
   ]
  },
  {
   "cell_type": "markdown",
   "id": "30004ea0-6f72-44f2-b5b0-ecb4c45df54c",
   "metadata": {},
   "source": [
    "- ### Next, we will collect the input datasets for the climatology/gauge dataset (2a, PRISM), and the GCM gridded dataset (2b, CONUS 404):"
   ]
  },
  {
   "cell_type": "markdown",
   "id": "68a2206b-406d-42be-90ff-ae73c404f342",
   "metadata": {},
   "source": [
    "##"
   ]
  },
  {
   "cell_type": "markdown",
   "id": "b538b361-b204-4532-ab56-2ae5a405944b",
   "metadata": {},
   "source": [
    "#### 2a climatology dataset -"
   ]
  },
  {
   "cell_type": "markdown",
   "id": "53d12927-af33-41f9-827f-5f18bfc34070",
   "metadata": {},
   "source": [
    "#### - The PRISM 30-year precipitation (ppt) normals dataset can be downloaded [from this link](https://prism.oregonstate.edu/normals/)"
   ]
  },
  {
   "cell_type": "markdown",
   "id": "e5f195a0-e7ed-4e33-9e15-7c2c7e826e9f",
   "metadata": {},
   "source": [
    "#### - and the PRISM 30-year ppt time-series dataset can be downloaded [from this link](https://prism.oregonstate.edu/explorer/)"
   ]
  },
  {
   "cell_type": "markdown",
   "id": "3f692234-7d7b-475d-a401-c363d4eae984",
   "metadata": {},
   "source": [
    "#### - For this workflow, the extracted contents of the .zip file were pointed to a subdirectory created under this path: /d1/serke/projects/CLIMATE_GIS/data/"
   ]
  },
  {
   "cell_type": "markdown",
   "id": "ce8d332b-ddc0-4537-8bee-c0da8a9ddf66",
   "metadata": {},
   "source": [
    "###"
   ]
  },
  {
   "cell_type": "markdown",
   "id": "1f93f877-69d4-4b96-96c2-b3f98f8c1631",
   "metadata": {},
   "source": [
    "2b GCM gridded dataset -"
   ]
  },
  {
   "cell_type": "markdown",
   "id": "f54e99c4-b213-4b4b-8fbb-aee3496d97de",
   "metadata": {},
   "source": [
    "#### - The NCAR 440 model sample file can be accessed here: "
   ]
  },
  {
   "cell_type": "markdown",
   "id": "af13b254-34e2-4360-ac86-1b482cd6f47e",
   "metadata": {},
   "source": [
    "#### - Files will be publicly available within a few months via [NCAR's RDA](https://rda.ucar.edu/)"
   ]
  },
  {
   "cell_type": "markdown",
   "id": "db96b6b6-31e3-4284-a0b6-c4e29eda4b9c",
   "metadata": {},
   "source": [
    "###"
   ]
  },
  {
   "cell_type": "markdown",
   "id": "e06b180d-9b63-4b0b-925b-8af2b84e7522",
   "metadata": {},
   "source": [
    "***"
   ]
  },
  {
   "cell_type": "markdown",
   "id": "0a1e0abd-1b29-4987-ba55-043c1494cf67",
   "metadata": {},
   "source": [
    "## Step 3. Set up user's python environment (for a linux machine)"
   ]
  },
  {
   "cell_type": "markdown",
   "id": "4c29ab74-1304-4c56-be91-87e74e3b5789",
   "metadata": {},
   "source": [
    "- ### [Install conda or miniconda](https://docs.conda.io/projects/conda/en/latest/user-guide/install/linux.html) on your machine, at least v3.x"
   ]
  },
  {
   "cell_type": "markdown",
   "id": "8871180c-b835-45d3-ac36-49dfc1b78406",
   "metadata": {},
   "source": [
    " - ### Direct your browser to NCAR's [Jupyterhub](https://jupyterhub.hpc.ucar.edu/)"
   ]
  },
  {
   "cell_type": "markdown",
   "id": "75b525d5-ebad-42b2-8b6e-f12fe98003bc",
   "metadata": {},
   "source": [
    "- ### Change directory (cd) into your python working directory:"
   ]
  },
  {
   "cell_type": "raw",
   "id": "d9bf6583-d6a4-4ebe-8596-4460c813ae41",
   "metadata": {},
   "source": [
    "     cd <path_to_python_working_directory>"
   ]
  },
  {
   "cell_type": "markdown",
   "id": "3787184e-8950-47d7-8eff-e064641e9e27",
   "metadata": {},
   "source": [
    "- ### Activate your preferred python environment (example below):"
   ]
  },
  {
   "cell_type": "raw",
   "id": "17618b63-4816-45a1-8285-7cdb6f4d5f0b",
   "metadata": {},
   "source": [
    "     conda activate <environment_name>"
   ]
  },
  {
   "cell_type": "markdown",
   "id": "2b58b5d4-ea5f-4d77-8504-32875168c017",
   "metadata": {},
   "source": [
    "- ### Install the following python packages, using the example command line below:"
   ]
  },
  {
   "cell_type": "raw",
   "id": "39bfb2ed-3234-4c33-9146-b37c4e961f3d",
   "metadata": {},
   "source": [
    "     conda install -c conda-forge <package_name>"
   ]
  },
  {
   "cell_type": "markdown",
   "id": "0923b448-1991-4d7d-b0e2-08414656dcd8",
   "metadata": {},
   "source": [
    "- ### Import installed packages into python environment"
   ]
  },
  {
   "cell_type": "code",
   "execution_count": 37,
   "id": "8ce8ee48-e738-4484-bd9b-fd967fdd5b65",
   "metadata": {},
   "outputs": [],
   "source": [
    "from   wrf                  import (to_np, getvar, smooth2d, get_cartopy, cartopy_xlim, cartopy_ylim, latlon_coords, geo_bounds)\n",
    "from   netCDF4              import Dataset\n",
    "import xarray               as     xr\n",
    "import cartopy.crs          as     crs\n",
    "from   cartopy.feature      import NaturalEarthFeature\n",
    "import cartopy.feature      as     cfeature\n",
    "import os\n",
    "os.environ[\"PROJ_LIB\"] = os.path.join(os.environ[\"CONDA_PREFIX\"], \"share\", \"proj\")\n",
    "from __future__             import print_function"
   ]
  },
  {
   "cell_type": "code",
   "execution_count": 25,
   "id": "70ed4fb1-9c44-4f06-b5b7-3723f09a46ef",
   "metadata": {},
   "outputs": [],
   "source": [
    "import rasterio                                   # to ingest raster format data, which are the .bil climatology file format \n",
    "from   rasterio.plot        import show           # show mapview\n",
    "from   rasterio.plot        import show_hist      # show histogram\n",
    "from   shapely.geometry     import box            #\n",
    "# Display output of plots directly in Notebook\n",
    "%matplotlib inline\n",
    "import matplotlib.pyplot    as     plt            # for plotting\n",
    "from   matplotlib.cm        import get_cmap\n",
    "from   matplotlib.colors    import ListedColormap\n",
    "import numpy                as     np             # for array functionality\n",
    "import pandas               as     pd             # for dataframes\n",
    "import geopandas            as     gpd            #\n",
    "from   scipy.stats          import gamma          #\n",
    "#import pyPRISMClimate                             # for PRISM dataset ingest\n",
    "#from   pyPRISMClimate       import get_prism_monthlys, get_prism_monthly_single, get_prism_dailys, get_prism_daily_single,get_prism_normals\n",
    "#from   pyPRISMClimate.utils import prism_iterator #\n",
    "import statistics                                 # for stats functionality\n",
    "import warnings                                   # \n",
    "warnings.filterwarnings(\"ignore\")                 # silence warnings\n"
   ]
  },
  {
   "cell_type": "markdown",
   "id": "4c4ec69c-4813-4dd1-9ede-ab7afe9860f0",
   "metadata": {},
   "source": [
    "***"
   ]
  },
  {
   "cell_type": "markdown",
   "id": "aa7db9bb-e748-4cf0-8f6b-0d0a413996ac",
   "metadata": {},
   "source": [
    "## Step 4. Ingest input datasets"
   ]
  },
  {
   "cell_type": "markdown",
   "id": "0b1c1ed0-89ba-47bb-b2cd-2cc264121e0e",
   "metadata": {},
   "source": [
    "### 4a. PRISM Monthly Precipitation Climatology gridded dataset:"
   ]
  },
  {
   "cell_type": "markdown",
   "id": "f1183227-8c28-48e3-834b-7e0fe687fe85",
   "metadata": {},
   "source": [
    "- ### Define the directory path that the ppt normals (.bil format) subdirectories and ppt point time-series files (.csv format) were stored in by the user in Step 2a:"
   ]
  },
  {
   "cell_type": "code",
   "execution_count": null,
   "id": "71dab3ab-9af8-4b3b-b8b9-3c49fa993d61",
   "metadata": {},
   "outputs": [],
   "source": [
    "prism_dir                          = '/d1/serke/projects/CLIMATE_GIS/data/'\n",
    "prism_normals_dir                  = 'PRISM_ppt_30yr_normal_4kmM3_09_bil/'\n",
    "prism_timeseries_dir               = 'PRISM_ppt_30yr_timeseries_4kmM3_BLDR_csv/'"
   ]
  },
  {
   "cell_type": "code",
   "execution_count": null,
   "id": "5020259e-95ea-4214-ae66-9bc02bd8227d",
   "metadata": {},
   "outputs": [],
   "source": [
    "prism_timeseries_name              = 'PRISM_ppt_stable_4km_199101_202012_40.0335_-105.2520.csv'"
   ]
  },
  {
   "cell_type": "markdown",
   "id": "bf43c56b-9b11-4c86-aa0a-07a25c2d104b",
   "metadata": {},
   "source": [
    "- ### Load the 30-year ppt time-series from near Boulder, CO from the .csv file (skipping the header lines) into a pandas dataframe:"
   ]
  },
  {
   "cell_type": "code",
   "execution_count": null,
   "id": "88b1d84f-b853-4f49-8196-3d5269ba4f60",
   "metadata": {},
   "outputs": [],
   "source": [
    "ppt_30yr_boulderCO_timeseries      = pd.read_csv(prism_dir + prism_timeseries_dir + prism_timeseries_name, header=10)\n",
    "#ppt_30yr_boulderCO_timeseries"
   ]
  },
  {
   "cell_type": "markdown",
   "id": "f3e574c4-fa5e-4b63-97cc-3a6bd431181e",
   "metadata": {},
   "source": [
    "- ### Now subset the dataframe to include only ppt values from all 30 septembers"
   ]
  },
  {
   "cell_type": "code",
   "execution_count": null,
   "id": "667696ca-e2b1-4d5a-a6fb-1ee739681668",
   "metadata": {},
   "outputs": [],
   "source": [
    "# array of september month indices starts with the 8th and includes every 12th index until the last index (number 359)\n",
    "ind_sept                           = np.arange(8, 359, 12)\n",
    "# subset the original dataframe using iloc index method\n",
    "ppt_30yr_sept_boulderCO_timeseries = ppt_30yr_boulderCO_timeseries.iloc[ind_sept]\n",
    "ppt_30yr_sept_boulderCO_timeseries"
   ]
  },
  {
   "cell_type": "markdown",
   "id": "83d8b242-3cf5-4d5b-a3a9-d14fe24d79ce",
   "metadata": {},
   "source": [
    "- ### Now, lets work with the .bil ppt normals dataset.  Execute the 'prism_iterator' function that outputs information on the available .bil files in that path"
   ]
  },
  {
   "cell_type": "code",
   "execution_count": null,
   "id": "8f19c18c-4904-4748-a66c-dafaf2abc9d0",
   "metadata": {},
   "outputs": [],
   "source": [
    "prism_iterator(prism_dir + prism_normals_dir, recursive = False)"
   ]
  },
  {
   "cell_type": "markdown",
   "id": "41ac724c-a94e-4fbc-b12f-8c8a99acf3ee",
   "metadata": {},
   "source": [
    "### NOTE: The only variable is 'ppt', or daily precipitation amount in mm, since that was the only field requested from the PRISM data download interface"
   ]
  },
  {
   "cell_type": "markdown",
   "id": "24926f60-a799-4ac8-827f-d2b9fe7ec2ba",
   "metadata": {},
   "source": [
    "- ### Lets now load the 30-year normals file for September (month '09' in the .bil filename) using the 'full_path' field above:"
   ]
  },
  {
   "cell_type": "code",
   "execution_count": null,
   "id": "c9aedee7-9d18-4e31-a3e1-df6a29018391",
   "metadata": {},
   "outputs": [],
   "source": [
    "ppt_sept_normal = rasterio.open(prism_dir + prism_normals_dir + '/PRISM_ppt_30yr_normal_4kmM3_09_bil.bil')"
   ]
  },
  {
   "cell_type": "markdown",
   "id": "0cc3472e-6fc7-4550-ac7d-e499db749626",
   "metadata": {},
   "source": [
    "- ### Display some raster properties (metadata, type, crs, shape, and layer count):"
   ]
  },
  {
   "cell_type": "code",
   "execution_count": null,
   "id": "ea3ea096-ea87-4e6e-a145-47cbaf6bf3c8",
   "metadata": {},
   "outputs": [],
   "source": [
    "ppt_sept_normal.meta"
   ]
  },
  {
   "cell_type": "code",
   "execution_count": null,
   "id": "5d779e51-aa5e-4654-ba44-2ea5f344bce7",
   "metadata": {},
   "outputs": [],
   "source": [
    "type(ppt_sept_normal)"
   ]
  },
  {
   "cell_type": "code",
   "execution_count": null,
   "id": "cbfd3734-c4c7-416d-9afd-4e7e6d9ea6e2",
   "metadata": {},
   "outputs": [],
   "source": [
    "ppt_sept_normal.crs"
   ]
  },
  {
   "cell_type": "code",
   "execution_count": null,
   "id": "5e42e60e-16f3-404f-b69e-786729d2e5ca",
   "metadata": {},
   "outputs": [],
   "source": [
    "ppt_sept_normal.read().shape"
   ]
  },
  {
   "cell_type": "code",
   "execution_count": null,
   "id": "97f0cb60-1cdd-4942-b9c7-d3a4ad3c58c3",
   "metadata": {},
   "outputs": [],
   "source": [
    "ppt_sept_normal.count"
   ]
  },
  {
   "cell_type": "markdown",
   "id": "b99e67e3-301e-4e9e-bca1-52f8278bfce3",
   "metadata": {},
   "source": [
    "### 4b. NCAR CONUS440 gridded dataset (borrowed from https://wrf-python.readthedocs.io/en/latest/basic_usage.html):"
   ]
  },
  {
   "cell_type": "markdown",
   "id": "97e07547-b143-4eda-8b68-87a86569000d",
   "metadata": {},
   "source": [
    "#### Access the CONUS404 data files in two possible ways:\n",
    "####   1. via NCAR's casper supercomputer on glade, or\n",
    "####   2. via manual access files on local storage\n",
    "#### Both are demonstrated below ..."
   ]
  },
  {
   "cell_type": "code",
   "execution_count": 27,
   "id": "09bcc3b7-56a0-49fa-9816-1d8b3beec56b",
   "metadata": {},
   "outputs": [
    {
     "name": "stdout",
     "output_type": "stream",
     "text": [
      "Process initiated at Wed Sep 28 22:19:54 2022\n"
     ]
    }
   ],
   "source": [
    "# 1. Access CONUS404 data files via NCAR's casper on glade\n",
    "#    * This method was outlined here: https://ldcpy.readthedocs.io/en/v0.15.4/notebooks/LargeDataGladeNotebook.html\n",
    "#    * requires the ldcpy module\n",
    "#    * requires access to the NCAR machine and a project charge account\n",
    "\n",
    "# --- Import Modules --- #\n",
    "import os\n",
    "import glob\n",
    "import time\n",
    "import sys\n",
    "## Add ldcpy root to system path (MODIFY FOR YOUR LDCPY CODE LOCATION)\n",
    "#sys.path.insert(0, '/glade/u/home/serke/newldcpy/ldcpy')\n",
    "#import ldcpy\n",
    "import numpy            as np\n",
    "import xarray           as xr\n",
    "import pandas           as pd\n",
    "import geopandas        as gpd\n",
    "import numcodecs\n",
    "import dask\n",
    "from   dask.distributed import Client, progress, LocalCluster \n",
    "#from   dask.distributed import performance_report\n",
    "from   dask.diagnostics import ProgressBar\n",
    "#import ncar_jobqueue\n",
    "#from   ncar_jobqueue    import NCARCluster\n",
    "from   dask_jobqueue    import PBSCluster\n",
    "import holoviews        as     hv \n",
    "import hvplot\n",
    "import glob\n",
    "import zarr\n",
    "# --- End Import Modules --- #\n",
    "\n",
    "tic = time.time()\n",
    "print('Process initiated at {0}'.format(time.ctime()))\n",
    "## if you want to use the DASK daskboard, then modify the code below and run it\n",
    "## dask.config.set(\n",
    "##    {'distributed.dashboard.link': 'https://jupyterhub.hpc.ucar.edu/ch/user/abaker/proxy/{port}/status'}\n",
    "## )"
   ]
  },
  {
   "cell_type": "code",
   "execution_count": null,
   "id": "00ac7d0a-58e7-49ea-84a4-220a7b86bc0c",
   "metadata": {},
   "outputs": [],
   "source": [
    "# Connect to DASK distributed cluster:\n",
    "#   * The cluster object is for a single compute node\n",
    "cluster = PBSCluster(\n",
    "    cores         = 2, \n",
    "    queue         = 'casper', \n",
    "    project       = 'NSAP0003', \n",
    "    memory        = '25GB', \n",
    "    walltime      = '02:00:00',  \n",
    "    death_timeout = 75,\n",
    "    resource_spec = 'select=1:ncpus=2:mem=25GB')\n",
    "\n",
    "# scale as needed\n",
    "n_jobs       = 4\n",
    "n_jobs_start = n_jobs\n",
    "#cluster.scale(jobs=n_jobs)\n",
    "cluster.adapt(minimum_jobs=1, maximum_jobs=30)\n",
    "cluster\n",
    "\n",
    "# The scheduler creates a normal-looking job script that it can submit multiple times to the queue:\n",
    "# Look at the job script (optional)\n",
    "print(cluster.job_script())\n",
    "\n",
    "# Connect client to the remote dask workers\n",
    "client                       = Client(cluster)\n",
    "client"
   ]
  },
  {
   "cell_type": "code",
   "execution_count": 8,
   "id": "aa3f091e-4ad0-4f16-aeec-a191ea5980bc",
   "metadata": {},
   "outputs": [],
   "source": [
    "# Define data file paths\n",
    "CONUS404_casper_event_dir   = '/glade/work/serke/GIS/data/CONUS404/'\n",
    "CONUS404_casper_event_yyyy  = 'WY2013/'\n",
    "#CONUS404_casper_event_yyyy  = 'test/'\n",
    "# define data file name\n",
    "CONUS404_constant_data_name = 'constant/wrfconstants_d01_1979-10-01_00:00:00.nc4'\n",
    "# list directory contents\n",
    "CONUS404_alltestfiles       = sorted(glob.glob(r'/glade/work/serke/GIS/data/CONUS404/WY2013/*'))"
   ]
  },
  {
   "cell_type": "code",
   "execution_count": 10,
   "id": "51c432d1-634d-4db3-813b-e39d3f2073bd",
   "metadata": {},
   "outputs": [
    {
     "name": "stdout",
     "output_type": "stream",
     "text": [
      "  Number of files =  216\n",
      "ACRAINLSM  shape =  (1015, 1367)\n",
      "XLAT shape       =  (1015, 1367)\n",
      "XLONG shape      =  (1015, 1367)\n"
     ]
    }
   ],
   "source": [
    "# print info on available files\n",
    "print('Number of files to process = ', len(CONUS404_alltestfiles))\n",
    "\n",
    "# open first data file with xarray module\n",
    "geogrid0                     = xr.open_dataset(\"\".join(CONUS404_alltestfiles[0]))\n",
    "# extract the ACumulatedRAIN (ACRAINLSM) field, will aggregate all other times' data to this variable\n",
    "# also, squeeze out the singleton 3rd dimension so shape matches XLAT and XLONG\n",
    "ACRAINLSM                    = geogrid0.ACRAINLSM.squeeze()\n",
    "# Loop over each hourly file in CONUS404_alltestfiles list\n",
    "for index, fname in enumerate(CONUS404_alltestfiles):\n",
    "    #print(index)\n",
    "    # Extract the 'ACRAINLSM' variable for hourly file number 'index'\n",
    "    geogrid       = xr.open_dataset(\"\".join(CONUS404_alltestfiles[index]))\n",
    "    # sum previous (ACRAINLSM) and current (geogrid[index]) xarrays of accumulated precip\n",
    "    ACRAINLSM     = ACRAINLSM + geogrid.ACRAINLSM.squeeze()\n",
    "\n",
    "# load constant field nc file\n",
    "CONUS404_constant_nc         = Dataset(CONUS404_casper_event_dir + CONUS404_constant_data_name)\n",
    "# Get the lat/lon coordinates from constant file\n",
    "XLAT                         = getvar(CONUS404_constant_nc, \"XLAT\")\n",
    "XLONG                        = getvar(CONUS404_constant_nc, \"XLONG\")\n",
    "XTIME                        = getvar(CONUS404_constant_nc, \"XTIME\")\n",
    "\n",
    "# check that variable shapes are consistent\n",
    "print('  ACRAINLSM  shape = ', ACRAINLSM.shape)\n",
    "print('  XLAT shape       = ', XLAT.shape)\n",
    "print('  XLONG shape      = ', XLONG.shape)"
   ]
  },
  {
   "cell_type": "code",
   "execution_count": null,
   "id": "3c08b99f-33e2-4d38-82b8-b4013372d224",
   "metadata": {},
   "outputs": [],
   "source": [
    "# Close the dask cluster and client\n",
    "cluster.close()\n",
    "client.close()"
   ]
  },
  {
   "cell_type": "code",
   "execution_count": null,
   "id": "71afd367-bb05-42bf-ae57-441fc333218f",
   "metadata": {},
   "outputs": [],
   "source": [
    "# 2. Access CONUS404 data files via local storage\n",
    "# define data file path      \n",
    "CONUS404_data_path           = '/d1/serke/projects/CLIMATE_GIS/data/CONUS404/'\n",
    "# define data file names\n",
    "CONUS404_constant_data_name  = 'wrfconstants_d01_1979-10-01_00:00:00.nc4'\n",
    "CONUS404_2d_data_name1       = 'wrf2d_d01_2013-09-12_06:00:00'\n",
    "CONUS404_2d_data_name2       = 'wrf2d_d01_2013-09-12_12:00:00'\n",
    "# load constant field nc file\n",
    "CONUS404_constant_nc         = Dataset(CONUS404_data_path + CONUS404_constant_data_name)\n",
    "# load 2d field nc file\n",
    "CONUS404_2d_nc1              = Dataset(CONUS404_data_path + CONUS404_2d_data_name1)\n",
    "CONUS404_2d_nc2              = Dataset(CONUS404_data_path + CONUS404_2d_data_name2)\n",
    "# Get the lat/lon coordinates from constant file\n",
    "XLAT                         = getvar(CONUS404_constant_nc, \"XLAT\")\n",
    "XLONG                        = getvar(CONUS404_constant_nc, \"XLONG\")\n",
    "XTIME                        = getvar(CONUS404_constant_nc, \"XTIME\")\n",
    "# Get desired 2d model fields (fix to handle input from separate files from: https://groups.google.com/a/ucar.edu/g/wrfpython-talk/c/5-mwY1_EC94?pli=1)\n",
    "#ACRAINLSM                   = getvar(CONUS404_2d_nc, \"ACRAINLSM\", meta=False)\n",
    "geogrid1                     = xr.open_dataset(CONUS404_data_path + CONUS404_2d_data_name1)\n",
    "geogrid2                     = xr.open_dataset(CONUS404_data_path + CONUS404_2d_data_name2)\n",
    "# display field characteristics\n",
    "#print('XLAT shape = ',      XLAT.shape)\n",
    "#print('XLONG shape = ',     XLONG.shape)\n",
    "#print('ACRAINLSM shape = ', geogrid1.ACRAINLSM.shape)"
   ]
  },
  {
   "cell_type": "code",
   "execution_count": null,
   "id": "5f5257a6-af40-42b3-9fec-cb9a93a753f5",
   "metadata": {},
   "outputs": [],
   "source": [
    "# THIS IS SAMPLE CODE JUST KEEPING IT AROUND FOR NOW\n",
    "## Get the latitude and longitude coordinate.  This is usually needed for plotting.\n",
    "#lats, lons        = latlon_coords(ACRAINLSM)\n",
    "## Get the geobounds for the variable\n",
    "#bounds            = geo_bounds(ACRAINLSM)\n",
    "#print (bounds)\n",
    "## Get the geographic boundaries for a subset of the domain\n",
    "#ACRAINLSM_subset        = ACRAINLSM[150:250, 150:250]\n",
    "#ACRAINLSM_subset_bounds = geo_bounds(ACRAINLSM_subset)\n",
    "#print (ACRAINLSM_subset_bounds)"
   ]
  },
  {
   "cell_type": "markdown",
   "id": "e15c4d52-fdad-492e-b210-60c346ccba0f",
   "metadata": {},
   "source": [
    "***"
   ]
  },
  {
   "cell_type": "markdown",
   "id": "e61ccdd3-2fbe-4b96-b2cd-887fee7ed907",
   "metadata": {},
   "source": [
    "## Step 5. Implement an extreme precipitation index"
   ]
  },
  {
   "cell_type": "markdown",
   "id": "8f69041b-2cd2-4634-94dc-b533d3b33362",
   "metadata": {},
   "source": [
    "- ### For this exploratory workflow, we chose to demonstrate the Standardized Precipitation Index (SPI), developed by [McKee et al. (1993)](https://www.droughtmanagement.info/literature/AMS_Relationship_Drought_Frequency_Duration_Time_Scales_1993.pdf) "
   ]
  },
  {
   "cell_type": "markdown",
   "id": "d98df5c4-c32e-4ad7-8765-0d7ff25da81e",
   "metadata": {},
   "source": [
    "- ### SPI is simply the difference of precipitation from the mean for a specified time period divided by the standard deviation where the mean and standard deviation are determined from past records. "
   ]
  },
  {
   "cell_type": "markdown",
   "id": "56a65c01-22c7-4c50-b962-0608612bfa34",
   "metadata": {},
   "source": [
    "- ### [This link](https://climatedataguide.ucar.edu/climate-data/standardized-precipitation-index-spi) provides a more detailed description, strengths, and weaknesses of the SPI index "
   ]
  },
  {
   "cell_type": "markdown",
   "id": "db29c493-4707-4ef1-a2b5-6c69d4b57a7c",
   "metadata": {},
   "source": [
    "### ..... For this example, we are using monthly resolution data over a 30 year period"
   ]
  },
  {
   "cell_type": "markdown",
   "id": "f3c00ad5-021b-4351-a7e5-a07126563e3f",
   "metadata": {},
   "source": [
    "- ### Let's calculate these statistical measures for use in the SPI:"
   ]
  },
  {
   "cell_type": "code",
   "execution_count": null,
   "id": "f5898948-eaea-4ff1-8439-f68ef02ac340",
   "metadata": {},
   "outputs": [],
   "source": [
    "ppt_30yr_sept_boulderCO_timeseries_mean = ppt_30yr_sept_boulderCO_timeseries.mean()\n",
    "ppt_30yr_sept_boulderCO_timeseries_std  = ppt_30yr_sept_boulderCO_timeseries.std()\n",
    "ppt_30yr_sept_boulderCO_timeseries_var  = statistics.variance(ppt_30yr_sept_boulderCO_timeseries['ppt (inches)'])"
   ]
  },
  {
   "cell_type": "raw",
   "id": "285a33bb-328e-4e76-a32e-4b53538e8507",
   "metadata": {},
   "source": [
    "- ### Compute SPI using PRISM and NCAR's CONUS404 GCM datasets:"
   ]
  },
  {
   "cell_type": "code",
   "execution_count": null,
   "id": "e3a4a0c4-8a16-43ca-9184-ad8eeecbf7b3",
   "metadata": {},
   "outputs": [],
   "source": [
    "SPI_PRISM_atBldr_forSepts               = (np.array(ppt_30yr_sept_boulderCO_timeseries['ppt (inches)']) - np.array(ppt_30yr_sept_boulderCO_timeseries_mean)) / np.array(ppt_30yr_sept_boulderCO_timeseries_std)"
   ]
  },
  {
   "cell_type": "raw",
   "id": "b9661607-4f7f-41f3-8b2f-4eb1ee1f9069",
   "metadata": {},
   "source": [
    "     SPI for September, 2013 using PRISM climatology/gauge dataset at Boulder, CO = 7.0"
   ]
  },
  {
   "cell_type": "code",
   "execution_count": 20,
   "id": "3ae9d339-ae7e-44c9-8010-5b71d092cf10",
   "metadata": {},
   "outputs": [
    {
     "name": "stdout",
     "output_type": "stream",
     "text": [
      "     SPI for September, 2013 using CONUS404 dataset at Boulder, CO =  3.0\n"
     ]
    }
   ],
   "source": [
    "SPI_CONUS404_atBldr_forSept2013         = (np.array(9.84) - np.array(1.94)) / np.array(2.71)\n",
    "print('     SPI for September, 2013 using CONUS404 dataset at Boulder, CO = ', np.round(SPI_CONUS404_atBldr_forSept2013, 0))"
   ]
  },
  {
   "cell_type": "markdown",
   "id": "c32a5738-73e0-4e60-900b-d261de013f6c",
   "metadata": {},
   "source": [
    "***"
   ]
  },
  {
   "cell_type": "markdown",
   "id": "da21de3f-a726-4d19-a6e9-06ebb9f160b3",
   "metadata": {},
   "source": [
    "## Step 6. Visualize data"
   ]
  },
  {
   "cell_type": "markdown",
   "id": "d20feb57-a62c-490c-a361-cf34fb6748d3",
   "metadata": {},
   "source": [
    "- ### Display mapview of ppt normal values across CONUS representing the last 30 years from the gridded PRISM climatology:"
   ]
  },
  {
   "cell_type": "code",
   "execution_count": null,
   "id": "17594772-a193-47a6-ae65-e69b22ba88e8",
   "metadata": {},
   "outputs": [],
   "source": [
    "show(ppt_sept_normal,title='PRISM - normal precipitation amount [mm] for September')"
   ]
  },
  {
   "cell_type": "markdown",
   "id": "b563f406-0482-4909-8e7e-fe2c6907013d",
   "metadata": {},
   "source": [
    "- ### Display histogram of ppt normal values across CONUS representing the last 30 years from the gridded PRISM climatology:"
   ]
  },
  {
   "cell_type": "code",
   "execution_count": null,
   "id": "3546044f-1ee4-4b9a-93d9-36e0d46dcc5c",
   "metadata": {},
   "outputs": [],
   "source": [
    "show_hist(ppt_sept_normal, bins=50, lw=0.0, stacked=False, alpha=0.3, histtype='stepfilled', title=\"PRISM - Precipitation amount [mm] for September\")"
   ]
  },
  {
   "cell_type": "markdown",
   "id": "b3d21d44-c1fa-4b63-972c-84091c4b61c6",
   "metadata": {},
   "source": [
    "- ### Display time-series of september monthly ppt field values from 1991-2020 from point data representing Boulder, CO:"
   ]
  },
  {
   "cell_type": "code",
   "execution_count": null,
   "id": "1d98ef6a-5e2e-4ed4-94a5-3bd38f18d879",
   "metadata": {},
   "outputs": [],
   "source": [
    "# use plot() method on the dataframe\n",
    "ppt_30yr_sept_boulderCO_timeseries.plot('Date', 'ppt (inches)', grid=True)"
   ]
  },
  {
   "cell_type": "markdown",
   "id": "b24c0648-46fe-48eb-a99e-ad1acdee96b0",
   "metadata": {},
   "source": [
    "![PRISM_atBldr_septs_precip](PRISM_atBoulder_septs_precip.png)"
   ]
  },
  {
   "cell_type": "markdown",
   "id": "194d9239-53bf-4a99-8109-20759a810689",
   "metadata": {},
   "source": [
    "- ### Plot density normalized histogram of september ppt values and fit to a Gamma Distribution:"
   ]
  },
  {
   "cell_type": "code",
   "execution_count": null,
   "id": "6e1c2717-3b7c-4a7c-9984-840fa2ac3691",
   "metadata": {},
   "outputs": [],
   "source": [
    "# define x-values as from 0 to 16 inches, with 6 increments per inch of ppt (16*6=96 values)\n",
    "x                 = np.linspace(0, 16, 96)\n",
    "# fit a Gamma distribution to 30-yr sept ppt values\n",
    "shape, loc, scale = gamma.fit(ppt_30yr_sept_boulderCO_timeseries['ppt (inches)'], floc=0)\n",
    "y                 = gamma.pdf(x, shape, loc, scale)\n",
    "# first plot histogram of the observed ppt values (in blue, with 16 bins of 1 in increments)\n",
    "ppt_30yr_sept_boulderCO_timeseries.hist(bins=16, density=True)\n",
    "# second plot the Gamma distribution x and y values over top (orange line)\n",
    "plt.plot(x, y)\n",
    "plt.title('Fitted Gamma (orange) to 30-yr Sept. ppt field (blue)')\n",
    "plt.xlabel('ppt [in]')\n",
    "plt.ylabel('Frequency')\n",
    "plt.text(14.0, 0.05, '2013', Fontsize=20)\n",
    "plt.xlim(0.0, 16.0)\n",
    "plt.grid(True)\n",
    "plt.show()"
   ]
  },
  {
   "cell_type": "markdown",
   "id": "c8fe21ca-b615-4fa7-bf54-1e7f7ac06172",
   "metadata": {},
   "source": [
    "![PRISM_atBldr_septs_wGammaDist](PRISM_atBoulder_septs_wGammaDist.png)"
   ]
  },
  {
   "cell_type": "markdown",
   "id": "2b3d9842-7646-44e3-a353-f84c78c8d190",
   "metadata": {},
   "source": [
    "- ### Plot a timeline of SPI values September 1991 through September 2020:"
   ]
  },
  {
   "cell_type": "code",
   "execution_count": null,
   "id": "8d743753-a1b7-49b8-9807-2082b5432e84",
   "metadata": {},
   "outputs": [],
   "source": [
    "# define custom wet/dry colormap\n",
    "cMap = ListedColormap(['red', 'orange', 'yellow', 'greenyellow', 'darkgreen'])\n",
    "# plot SPI timeline\n",
    "plt.rcParams['figure.figsize'] = (10, 8)\n",
    "plt.xlabel('Year', Fontsize=20)\n",
    "ax   = plt.gca()\n",
    "#fig, ax      = plt.subplots(1,1)\n",
    "ax.imshow(np.tile(np.expand_dims(SPI, axis=0), (3,1)), cmap=cMap, vmax=2, vmin=-2, extent=[1991, 2020, 0, 2])\n",
    "# remove y-axis labels/ticks\n",
    "ax.axes.yaxis.set_visible(False)\n",
    "# add custom colorbar\n",
    "cbar=plt.colorbar(im, orientation='horizontal')\n",
    "cbar.set_ticks([-2, -1, 0, 1, 2])\n",
    "#cbar.ax.set_yticklabels(['<-2', '-1', '0', '1', '>2'], Fontsize=20)\n",
    "cbar.ax.set_xticklabels(['extreme dry', 'dry', 'normal', 'wet', 'extreme wet'], Fontsize=20)\n",
    "cbar.set_label('S P I', rotation=0, Fontsize=20)\n",
    "plt.show()"
   ]
  },
  {
   "cell_type": "markdown",
   "id": "47699ddc-8eb0-42ee-aa79-600699f37987",
   "metadata": {},
   "source": [
    "![SPI_PRISM](SPI_atBoulder_septs_using_PRISM.png)"
   ]
  },
  {
   "cell_type": "markdown",
   "id": "8542387b-18ac-450b-b739-40e50722cd2e",
   "metadata": {},
   "source": [
    "- ### Plot CONUS404 hourly accumulated precipitation "
   ]
  },
  {
   "cell_type": "code",
   "execution_count": 43,
   "id": "5736456c-0c8c-4c03-b124-175522918cee",
   "metadata": {},
   "outputs": [
    {
     "data": {
      "image/png": "[encoded data removed]",
      "text/plain": [
       "<Figure size 1152x576 with 2 Axes>"
      ]
     },
     "metadata": {
      "needs_background": "light"
     },
     "output_type": "display_data"
    }
   ],
   "source": [
    "# Mapping Helper Routines\n",
    "#   In this example, we’re going to extract the cartopy mapping object from a diagnostic variable (XLAT or XLONG), the lat,lon coordinates, and the geographic boundaries. \n",
    "#   Get the cartopy mapping object\n",
    "cart_proj                   = get_cartopy(XLAT)\n",
    "\n",
    "# Create a figure\n",
    "fig1                        = plt.figure(figsize=(16, 8))\n",
    "# Set the GeoAxes to the projection used by WRF\n",
    "ax1                         = plt.axes(projection=cart_proj)\n",
    "# Download and add the states and coastlines\n",
    "states                      = cfeature.STATES.with_scale('50m')\n",
    "#states                      = NaturalEarthFeature(category=\"cultural\", scale=\"50m\",\n",
    "#                                                  facecolor=\"none\",\n",
    "#                                                  name=\"admin_1_states_provinces_shp\")\n",
    "ax1.add_feature(states, linewidth=1.0, edgecolor=\"black\")\n",
    "ax1.coastlines('50m', linewidth=0.8)\n",
    "plt.contourf(to_np(XLONG), to_np(XLAT), to_np(ACRAINLSM)/25.4, 50, transform=crs.PlateCarree(), vmin0=0, vmax=18, cmap=get_cmap(\"jet\"), alpha=0.7)\n",
    "#plt.contourf(to_np(XLONG), to_np(XLAT), to_np(geogrid1.ACRAINLSM).squeeze(), 100, transform=crs.PlateCarree(), vmin=0, vmax=40, cmap=get_cmap(\"jet\"), alpha=0.6)\n",
    "\n",
    "# Add a color bar\n",
    "plt.colorbar(ax=ax1, shrink=0.98, orientation=\"vertical\").set_label(label='[in]', size=20, weight='normal')\n",
    "# Set the map bounds\n",
    "ax1.set_xlim([-1050000, -250000])\n",
    "ax1.set_ylim([ -250000,  300000])\n",
    "#ax1.set_xlim(cartopy_xlim(XLONG))\n",
    "#ax1.set_ylim(cartopy_ylim(XLAT))\n",
    "# Add the gridlines\n",
    "ax1.gridlines(color=\"black\", linestyle=\"dotted\")\n",
    "# Add title using input file name components\n",
    "plt.title('CONUS404 Accumulated Precip. [in], 2013 09-09 to 09-23', fontsize=15, weight='bold')\n",
    "plt.text(-105.2281,      40.0373,             'o', transform=crs.PlateCarree(), fontsize=20, weight='normal')\n",
    "plt.text(-105.2281-0.60, 40.0373+0.10,     'Bldr', transform=crs.PlateCarree(), fontsize=20, weight='bold')\n",
    "plt.text(-108.5000,      40.4000,      'Colorado', transform=crs.PlateCarree(), fontsize=25, weight='normal')\n",
    "plt.show()"
   ]
  },
  {
   "cell_type": "code",
   "execution_count": 22,
   "id": "e97ae116-7a4e-4786-8b70-9d2a7daa4c29",
   "metadata": {},
   "outputs": [
    {
     "ename": "AttributeError",
     "evalue": "'DataArray' object has no attribute 'hvplot'",
     "output_type": "error",
     "traceback": [
      "\u001b[1;31m\u001b[0m",
      "\u001b[1;31mAttributeError\u001b[0mTraceback (most recent call last)",
      "\u001b[1;32m<ipython-input-22-e251e0fd1420>\u001b[0m in \u001b[0;36m<module>\u001b[1;34m()\u001b[0m\n\u001b[1;32m----> 1\u001b[1;33m plot = ACRAINLSM.hvplot.quadmesh(\n\u001b[0m\u001b[0;32m      2\u001b[0m     \u001b[0mx\u001b[0m\u001b[1;33m=\u001b[0m\u001b[1;34m'XLONG'\u001b[0m\u001b[1;33m,\u001b[0m\u001b[1;33m\u001b[0m\u001b[0m\n\u001b[0;32m      3\u001b[0m     \u001b[0my\u001b[0m\u001b[1;33m=\u001b[0m\u001b[1;34m'XLAT'\u001b[0m\u001b[1;33m,\u001b[0m\u001b[1;33m\u001b[0m\u001b[0m\n\u001b[0;32m      4\u001b[0m     \u001b[0mz\u001b[0m\u001b[1;33m=\u001b[0m\u001b[1;33m[\u001b[0m\u001b[1;34m'TT'\u001b[0m\u001b[1;33m,\u001b[0m \u001b[1;34m'RH'\u001b[0m\u001b[1;33m]\u001b[0m\u001b[1;33m,\u001b[0m\u001b[1;33m\u001b[0m\u001b[0m\n\u001b[0;32m      5\u001b[0m     \u001b[0mgroupby\u001b[0m\u001b[1;33m=\u001b[0m\u001b[1;33m[\u001b[0m\u001b[1;34m'Time'\u001b[0m\u001b[1;33m]\u001b[0m\u001b[1;33m,\u001b[0m\u001b[1;33m\u001b[0m\u001b[0m\n",
      "\u001b[1;32m/glade/u/home/serke/.conda/envs/analysis2/lib/python2.7/site-packages/xarray/core/common.pyc\u001b[0m in \u001b[0;36m__getattr__\u001b[1;34m(self, name)\u001b[0m\n\u001b[0;32m    177\u001b[0m                     \u001b[1;32mreturn\u001b[0m \u001b[0msource\u001b[0m\u001b[1;33m[\u001b[0m\u001b[0mname\u001b[0m\u001b[1;33m]\u001b[0m\u001b[1;33m\u001b[0m\u001b[0m\n\u001b[0;32m    178\u001b[0m         raise AttributeError(\"%r object has no attribute %r\" %\n\u001b[1;32m--> 179\u001b[1;33m                              (type(self).__name__, name))\n\u001b[0m\u001b[0;32m    180\u001b[0m \u001b[1;33m\u001b[0m\u001b[0m\n\u001b[0;32m    181\u001b[0m     \u001b[1;32mdef\u001b[0m \u001b[0m__setattr__\u001b[0m\u001b[1;33m(\u001b[0m\u001b[0mself\u001b[0m\u001b[1;33m,\u001b[0m \u001b[0mname\u001b[0m\u001b[1;33m,\u001b[0m \u001b[0mvalue\u001b[0m\u001b[1;33m)\u001b[0m\u001b[1;33m:\u001b[0m\u001b[1;33m\u001b[0m\u001b[0m\n",
      "\u001b[1;31mAttributeError\u001b[0m: 'DataArray' object has no attribute 'hvplot'"
     ]
    }
   ],
   "source": [
    "plot = ACRAINLSM.hvplot.quadmesh(\n",
    "    x='XLONG',\n",
    "    y='XLAT',\n",
    "    z=['TT', 'RH'],\n",
    "    groupby=['Time'],\n",
    "    widget_location='bottom',\n",
    "    rasterize=True,\n",
    "    coastline=True,\n",
    "    cmap='inferno',\n",
    ")\n",
    "plot"
   ]
  },
  {
   "cell_type": "markdown",
   "id": "33306cf2-ebdf-4d93-9e22-8469e93a001c",
   "metadata": {},
   "source": [
    "### NOTE: It appears that the CONUS404 does a very reasonable job at producing very significant precipitation amounts similar to what was observed during the flooding period.  "
   ]
  },
  {
   "cell_type": "markdown",
   "id": "fbfd5078-95bc-45a5-9cac-11df93541f14",
   "metadata": {},
   "source": [
    "***"
   ]
  },
  {
   "cell_type": "markdown",
   "id": "e76cfbff-aab0-4884-81f4-6193cdb6ca67",
   "metadata": {},
   "source": [
    "## References"
   ]
  },
  {
   "cell_type": "raw",
   "id": "870fdee5-b019-46c8-842a-6d570224edea",
   "metadata": {},
   "source": [
    "Climate indices:\n",
    "----------------\n",
    "McKee, T. B., Doesken, N. J. and Kleist, J. 1993, The relationship of drought frequency and duration to time scales Proceedings of the 8th Conference on Applied Climatology vol 17 (American Meteorological Society Boston, MA, USA) pp 179–83.\n",
    "\n",
    "Svoboda, M., and Fuchs, B., 2016, Handbook of drought indicators and indices. WMO-No. 1173. Online: https://public.wmo.int/en/resources/library/handbook-of-drought-indicators-and-indices\n",
    "\n",
    "World Meteorological Organisation 2017 WMO guidelines on the calculation of climate normals. WMO-No. 1203. Online: https://library.wmo.int/index.php?lvl=notice_display&id=20130\n",
    "\n",
    "Zhang, X., Alexander, L., Hegerl, G., C., Jones, P., Tank, A., K., Peterson, T., C., Trewin, B., and Zwiers, F. W., 2011, Indices for monitoring changes in extremes based on daily temperature and precipitation data Wiley Interdiscip. Rev. Clim. Chang. 2 851–70 Online: http://dx.doi.org/10.1002/wcc.147\n",
    "\n",
    "\n",
    "NCAR CONUS1 and CONUS404 Climate Model:\n",
    "---------------------------------------\n",
    "Liu, C., Ikeda, K., Rasmussen, R. et al. Continental-scale convection-permitting modeling of the current and future climate of North America. Clim Dyn 49, 71–95 (2017). https://doi.org/10.1007/s00382-016-3327-9\n",
    "\n",
    "Rasmussen, R., et al. The CONUS-404 Model, to be submitted Autumn 2022.\n",
    "\n",
    "\n",
    "PRISM Climatology datasets:\n",
    "---------------------------\n",
    "Daly, C., Halbleib, M., Smith, J. I., Gibson, W. P., Doggett, M. K., Taylor, G. H., Curtis J., Pasteris P. P., (2008) Physiographically sensitive mapping of climatological temperature and precipitation across the conterminous United States. Int J Climatol 28:2031–2064\n",
    "\n",
    "Daly, C., G.H., Taylor, W.P., Gibson, T.W., Parzybok, G.L., Johnson, and Pasteris, P., 2001. High-quality spatial climate data sets for the United States and beyond. Transactions of the American Society of Agricultural Engineers 43(6): 1957-1962. doi:10.13031/2013.3101\n",
    "\n",
    "\n",
    "python modules:\n",
    "-------------------\n",
    "Ladwig, W., (2017). wrf-python (Version x.x.x) [Software]. Boulder, Colorado: UCAR/NCAR. https://doi.org/10.5065/D6W094P1\n",
    "\n",
    "Pinard, D., Hammerling, M., and A. H. Baker. Assessing differences in large spatio­temporal climate datasets with a new Python package. In The 2020 IEEE International Workshop on Big Data Reduction, 2020. doi: 10.1109/BigData50022.2020.9378100.\n"
   ]
  }
 ],
 "metadata": {
  "kernelspec": {
   "display_name": "Python (analysis2)",
   "language": "python",
   "name": "analysis2"
  },
  "language_info": {
   "codemirror_mode": {
    "name": "ipython",
    "version": 2
   },
   "file_extension": ".py",
   "mimetype": "text/x-python",
   "name": "python",
   "nbconvert_exporter": "python",
   "pygments_lexer": "ipython2",
   "version": "2.7.15"
  }
 },
 "nbformat": 4,
 "nbformat_minor": 5
}
